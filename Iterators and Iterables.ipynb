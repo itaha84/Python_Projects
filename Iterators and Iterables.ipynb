{
 "cells": [
  {
   "cell_type": "markdown",
   "metadata": {},
   "source": [
    "### Iterators & Itrables"
   ]
  },
  {
   "cell_type": "code",
   "execution_count": 3,
   "metadata": {},
   "outputs": [],
   "source": [
    "class Cities:\n",
    "    def __init__(self):\n",
    "        self._cities = [\"Cairo\", \"Melbourne\", \"Sydney\", \"Paris\", \"London\"]\n",
    "        self._index = 0\n",
    "        \n",
    "    def __iter__(self):\n",
    "        return self\n",
    "    \n",
    "    def __next__(self):\n",
    "        if self._index >= len(self._cities):\n",
    "            raise StopIteration(\"List of Cities has been exhausted!\")\n",
    "        else:\n",
    "            item = self._cities[self._index]\n",
    "            self._index += 1\n",
    "            return item        "
   ]
  },
  {
   "cell_type": "code",
   "execution_count": 14,
   "metadata": {},
   "outputs": [],
   "source": [
    "cities = Cities()"
   ]
  },
  {
   "cell_type": "code",
   "execution_count": 16,
   "metadata": {},
   "outputs": [
    {
     "ename": "StopIteration",
     "evalue": "List of Cities has been exhausted!",
     "output_type": "error",
     "traceback": [
      "\u001b[1;31m---------------------------------------------------------------------------\u001b[0m",
      "\u001b[1;31mStopIteration\u001b[0m                             Traceback (most recent call last)",
      "\u001b[1;32m<ipython-input-16-c3eb7aa670ad>\u001b[0m in \u001b[0;36m<module>\u001b[1;34m\u001b[0m\n\u001b[1;32m----> 1\u001b[1;33m \u001b[0mnext\u001b[0m\u001b[1;33m(\u001b[0m\u001b[0mcities\u001b[0m\u001b[1;33m)\u001b[0m\u001b[1;33m\u001b[0m\u001b[1;33m\u001b[0m\u001b[0m\n\u001b[0m",
      "\u001b[1;32m<ipython-input-3-c9dd70d139a5>\u001b[0m in \u001b[0;36m__next__\u001b[1;34m(self)\u001b[0m\n\u001b[0;32m      9\u001b[0m     \u001b[1;32mdef\u001b[0m \u001b[0m__next__\u001b[0m\u001b[1;33m(\u001b[0m\u001b[0mself\u001b[0m\u001b[1;33m)\u001b[0m\u001b[1;33m:\u001b[0m\u001b[1;33m\u001b[0m\u001b[1;33m\u001b[0m\u001b[0m\n\u001b[0;32m     10\u001b[0m         \u001b[1;32mif\u001b[0m \u001b[0mself\u001b[0m\u001b[1;33m.\u001b[0m\u001b[0m_index\u001b[0m \u001b[1;33m>=\u001b[0m \u001b[0mlen\u001b[0m\u001b[1;33m(\u001b[0m\u001b[0mself\u001b[0m\u001b[1;33m.\u001b[0m\u001b[0m_cities\u001b[0m\u001b[1;33m)\u001b[0m\u001b[1;33m:\u001b[0m\u001b[1;33m\u001b[0m\u001b[1;33m\u001b[0m\u001b[0m\n\u001b[1;32m---> 11\u001b[1;33m             \u001b[1;32mraise\u001b[0m \u001b[0mStopIteration\u001b[0m\u001b[1;33m(\u001b[0m\u001b[1;34m\"List of Cities has been exhausted!\"\u001b[0m\u001b[1;33m)\u001b[0m\u001b[1;33m\u001b[0m\u001b[1;33m\u001b[0m\u001b[0m\n\u001b[0m\u001b[0;32m     12\u001b[0m         \u001b[1;32melse\u001b[0m\u001b[1;33m:\u001b[0m\u001b[1;33m\u001b[0m\u001b[1;33m\u001b[0m\u001b[0m\n\u001b[0;32m     13\u001b[0m             \u001b[0mitem\u001b[0m \u001b[1;33m=\u001b[0m \u001b[0mself\u001b[0m\u001b[1;33m.\u001b[0m\u001b[0m_cities\u001b[0m\u001b[1;33m[\u001b[0m\u001b[0mself\u001b[0m\u001b[1;33m.\u001b[0m\u001b[0m_index\u001b[0m\u001b[1;33m]\u001b[0m\u001b[1;33m\u001b[0m\u001b[1;33m\u001b[0m\u001b[0m\n",
      "\u001b[1;31mStopIteration\u001b[0m: List of Cities has been exhausted!"
     ]
    }
   ],
   "source": [
    "next(cities)"
   ]
  },
  {
   "cell_type": "code",
   "execution_count": 17,
   "metadata": {},
   "outputs": [
    {
     "data": {
      "text/plain": [
       "[]"
      ]
     },
     "execution_count": 17,
     "metadata": {},
     "output_type": "execute_result"
    }
   ],
   "source": [
    "list(enumerate(cities))"
   ]
  },
  {
   "cell_type": "code",
   "execution_count": 19,
   "metadata": {},
   "outputs": [
    {
     "data": {
      "text/plain": [
       "['cairo', 'melbourne', 'sydney', 'paris', 'london']"
      ]
     },
     "execution_count": 19,
     "metadata": {},
     "output_type": "execute_result"
    }
   ],
   "source": [
    "cities = Cities() ## NOTE: everytime we need to iterate, we need a new instance of the class!!\n",
    "[city.lower() for city in cities]"
   ]
  },
  {
   "cell_type": "code",
   "execution_count": 24,
   "metadata": {},
   "outputs": [],
   "source": [
    "class Cities:\n",
    "    def __init__(self):\n",
    "        self._cities = [\"Cairo\", \"Melbourne\", \"Sydney\", \"Paris\", \"London\"]\n",
    "        self._index = 0\n",
    "        \n",
    "    def __len__(self):\n",
    "        return len(self._cities)   "
   ]
  },
  {
   "cell_type": "code",
   "execution_count": 38,
   "metadata": {},
   "outputs": [],
   "source": [
    "class Cityiterator:\n",
    "    def __init__(self, cities_obj):\n",
    "        self._cities_obj = cities_obj\n",
    "        self._index = 0\n",
    "        \n",
    "    def __iter__(self):\n",
    "        return self\n",
    "    \n",
    "    def __next__(self):\n",
    "        if self._index >= len(self._cities_obj): ## we have defined __len__ in the cities class\n",
    "            raise StopIteration(\"List of Cities has been exhausted!\")\n",
    "        else:\n",
    "            item = self._cities_obj._cities[self._index]\n",
    "            self._index += 1\n",
    "            return item           "
   ]
  },
  {
   "cell_type": "markdown",
   "metadata": {},
   "source": [
    "### Now in order be able to reiterate over cities, we only need to recall ONLY the iterator"
   ]
  },
  {
   "cell_type": "code",
   "execution_count": 45,
   "metadata": {},
   "outputs": [],
   "source": [
    "cities = Cities()"
   ]
  },
  {
   "cell_type": "code",
   "execution_count": 51,
   "metadata": {},
   "outputs": [],
   "source": [
    "citie_itierator = Cityiterator(cities)  ## rerun this (ONLY) to be able to reiterate"
   ]
  },
  {
   "cell_type": "code",
   "execution_count": 50,
   "metadata": {},
   "outputs": [
    {
     "data": {
      "text/plain": [
       "[]"
      ]
     },
     "execution_count": 50,
     "metadata": {},
     "output_type": "execute_result"
    }
   ],
   "source": [
    "list(enumerate(citie_itierator))"
   ]
  },
  {
   "cell_type": "markdown",
   "metadata": {},
   "source": [
    "#### Note that you can't iterate over Cites itself, as it's not itrable. To overcome this, we will need to use `Python iter()` protocol"
   ]
  },
  {
   "cell_type": "code",
   "execution_count": 76,
   "metadata": {},
   "outputs": [],
   "source": [
    "class Cityiterator:\n",
    "    def __init__(self, cities_obj):\n",
    "        print(\"City Iterator New Object!\")\n",
    "        self._cities_obj = cities_obj\n",
    "        self._index = 0\n",
    "        \n",
    "    def __iter__(self):\n",
    "        return self\n",
    "    \n",
    "    def __next__(self):\n",
    "        print(\"City Iterator __next__ called!\")\n",
    "        if self._index >= len(self._cities_obj): ## we have defined __len__ in the cities class\n",
    "            raise StopIteration(\"List of Cities has been exhausted!\")\n",
    "        else:\n",
    "            item = self._cities_obj._cities[self._index]\n",
    "            self._index += 1\n",
    "            return item     "
   ]
  },
  {
   "cell_type": "code",
   "execution_count": 77,
   "metadata": {},
   "outputs": [],
   "source": [
    "class Cities:\n",
    "    def __init__(self):\n",
    "        self._cities = [\"Cairo\", \"Melbourne\", \"Sydney\", \"Paris\", \"London\"]\n",
    "        self._index = 0\n",
    "        \n",
    "    def __len__(self):\n",
    "        return len(self._cities)\n",
    "    \n",
    "    def __iter__(self): ## this time we are not passing self, but the iterator over self\n",
    "        print(\"Cities __iter__ called!\")\n",
    "        return Cityiterator(self)"
   ]
  },
  {
   "cell_type": "code",
   "execution_count": 78,
   "metadata": {},
   "outputs": [],
   "source": [
    "cities = Cities()"
   ]
  },
  {
   "cell_type": "code",
   "execution_count": 79,
   "metadata": {},
   "outputs": [
    {
     "name": "stdout",
     "output_type": "stream",
     "text": [
      "Cities __iter__ called!\n",
      "City Iterator New Object!\n",
      "City Iterator __next__ called!\n",
      "Cairo\n",
      "City Iterator __next__ called!\n",
      "Melbourne\n",
      "City Iterator __next__ called!\n",
      "Sydney\n",
      "City Iterator __next__ called!\n",
      "Paris\n",
      "City Iterator __next__ called!\n",
      "London\n",
      "City Iterator __next__ called!\n"
     ]
    }
   ],
   "source": [
    "for city in cities:\n",
    "    print(city)"
   ]
  },
  {
   "cell_type": "code",
   "execution_count": 80,
   "metadata": {},
   "outputs": [
    {
     "name": "stdout",
     "output_type": "stream",
     "text": [
      "Cities __iter__ called!\n",
      "City Iterator New Object!\n",
      "City Iterator __next__ called!\n",
      "City Iterator __next__ called!\n",
      "City Iterator __next__ called!\n",
      "City Iterator __next__ called!\n",
      "City Iterator __next__ called!\n",
      "City Iterator __next__ called!\n"
     ]
    },
    {
     "data": {
      "text/plain": [
       "[(0, 'Cairo'), (1, 'Melbourne'), (2, 'Sydney'), (3, 'Paris'), (4, 'London')]"
      ]
     },
     "execution_count": 80,
     "metadata": {},
     "output_type": "execute_result"
    }
   ],
   "source": [
    "list(enumerate(cities))  ## you can rerun it without the need to re instantiate the class!"
   ]
  },
  {
   "cell_type": "markdown",
   "metadata": {},
   "source": [
    "#### Putting it all together"
   ]
  },
  {
   "cell_type": "code",
   "execution_count": 84,
   "metadata": {},
   "outputs": [
    {
     "ename": "NameError",
     "evalue": "name 'Cities' is not defined",
     "output_type": "error",
     "traceback": [
      "\u001b[1;31m---------------------------------------------------------------------------\u001b[0m",
      "\u001b[1;31mNameError\u001b[0m                                 Traceback (most recent call last)",
      "\u001b[1;32m<ipython-input-84-89727c7a7aa6>\u001b[0m in \u001b[0;36m<module>\u001b[1;34m\u001b[0m\n\u001b[1;32m----> 1\u001b[1;33m \u001b[1;32mdel\u001b[0m \u001b[0mCities\u001b[0m\u001b[1;33m\u001b[0m\u001b[1;33m\u001b[0m\u001b[0m\n\u001b[0m\u001b[0;32m      2\u001b[0m \u001b[1;32mdel\u001b[0m \u001b[0mCityiterator\u001b[0m\u001b[1;33m\u001b[0m\u001b[1;33m\u001b[0m\u001b[0m\n",
      "\u001b[1;31mNameError\u001b[0m: name 'Cities' is not defined"
     ]
    }
   ],
   "source": [
    "del Cities\n",
    "del Cityiterator"
   ]
  },
  {
   "cell_type": "code",
   "execution_count": 106,
   "metadata": {},
   "outputs": [],
   "source": [
    "## nestd class\n",
    "\n",
    "class Cities:\n",
    "    def __init__(self):\n",
    "        self._cities = [\"Cairo\", \"Melbourne\", \"Sydney\", \"Paris\", \"London\"]\n",
    "        self._index = 0\n",
    "        \n",
    "    def __len__(self):\n",
    "        return len(self._cities)\n",
    "    \n",
    "    def __iter__(self): ## this time we are not passing self, but the iterator over self\n",
    "        print(\"Cities __iter__ called!\")\n",
    "        return self.Cityiterator(self)\n",
    "    \n",
    "    def __getitem__(self, s):\n",
    "        print(\"Getting Item...\")\n",
    "        return self._cities[s]\n",
    "    \n",
    "    class Cityiterator:\n",
    "        def __init__(self, cities_obj):\n",
    "            print(\"City Iterator New Object!\")\n",
    "            self._cities_obj = cities_obj\n",
    "            self._index = 0\n",
    "\n",
    "        def __iter__(self):\n",
    "            return self\n",
    "\n",
    "        def __next__(self):\n",
    "            print(\"City Iterator __next__ called!\")\n",
    "            if self._index >= len(self._cities_obj): ## we have defined __len__ in the cities class\n",
    "                raise StopIteration(\"List of Cities has been exhausted!\")\n",
    "            else:\n",
    "                item = self._cities_obj._cities[self._index]\n",
    "                self._index += 1\n",
    "                return item   "
   ]
  },
  {
   "cell_type": "code",
   "execution_count": 107,
   "metadata": {},
   "outputs": [],
   "source": [
    "cities1 = Cities()"
   ]
  },
  {
   "cell_type": "code",
   "execution_count": 108,
   "metadata": {},
   "outputs": [
    {
     "name": "stdout",
     "output_type": "stream",
     "text": [
      "Getting Item...\n",
      "Cairo\n",
      "Getting Item...\n",
      "Melbourne\n",
      "Getting Item...\n",
      "Sydney\n",
      "Getting Item...\n",
      "Paris\n",
      "Getting Item...\n",
      "London\n",
      "Getting Item...\n"
     ]
    }
   ],
   "source": [
    "for city in cities1:\n",
    "    print(city)"
   ]
  },
  {
   "cell_type": "code",
   "execution_count": 92,
   "metadata": {},
   "outputs": [
    {
     "name": "stdout",
     "output_type": "stream",
     "text": [
      "Cities __iter__ called!\n",
      "City Iterator New Object!\n",
      "City Iterator __next__ called!\n",
      "City Iterator __next__ called!\n",
      "City Iterator __next__ called!\n",
      "City Iterator __next__ called!\n",
      "City Iterator __next__ called!\n",
      "City Iterator __next__ called!\n"
     ]
    },
    {
     "data": {
      "text/plain": [
       "[(0, 'Cairo'), (1, 'Melbourne'), (2, 'Sydney'), (3, 'Paris'), (4, 'London')]"
      ]
     },
     "execution_count": 92,
     "metadata": {},
     "output_type": "execute_result"
    }
   ],
   "source": [
    "list(enumerate(cities1))"
   ]
  },
  {
   "cell_type": "code",
   "execution_count": 93,
   "metadata": {},
   "outputs": [
    {
     "name": "stdout",
     "output_type": "stream",
     "text": [
      "Cities __iter__ called!\n",
      "City Iterator New Object!\n",
      "City Iterator __next__ called!\n",
      "City Iterator __next__ called!\n",
      "City Iterator __next__ called!\n",
      "City Iterator __next__ called!\n",
      "City Iterator __next__ called!\n",
      "City Iterator __next__ called!\n"
     ]
    },
    {
     "data": {
      "text/plain": [
       "['Cairo', 'Paris', 'Sydney', 'London', 'Melbourne']"
      ]
     },
     "execution_count": 93,
     "metadata": {},
     "output_type": "execute_result"
    }
   ],
   "source": [
    "sorted(cities1, key=lambda x: len(x))"
   ]
  },
  {
   "cell_type": "code",
   "execution_count": 94,
   "metadata": {},
   "outputs": [
    {
     "name": "stdout",
     "output_type": "stream",
     "text": [
      "Cities __iter__ called!\n",
      "City Iterator New Object!\n"
     ]
    },
    {
     "data": {
      "text/plain": [
       "<__main__.Cities.Cityiterator at 0x2d7fd3845e0>"
      ]
     },
     "execution_count": 94,
     "metadata": {},
     "output_type": "execute_result"
    }
   ],
   "source": [
    "iter(cities1)"
   ]
  },
  {
   "cell_type": "markdown",
   "metadata": {},
   "source": [
    "#### Python will use iter by defult to `__iter__`, if not implemented will use `__getitem__`"
   ]
  },
  {
   "cell_type": "code",
   "execution_count": 109,
   "metadata": {},
   "outputs": [
    {
     "name": "stdout",
     "output_type": "stream",
     "text": [
      "Getting Item...\n",
      "Cairo\n",
      "Getting Item...\n",
      "Melbourne\n",
      "Getting Item...\n",
      "Sydney\n",
      "Getting Item...\n",
      "Paris\n",
      "Getting Item...\n",
      "London\n",
      "Getting Item...\n"
     ]
    }
   ],
   "source": [
    "for city in cities1:\n",
    "    print(city)"
   ]
  },
  {
   "cell_type": "code",
   "execution_count": null,
   "metadata": {},
   "outputs": [],
   "source": []
  },
  {
   "cell_type": "code",
   "execution_count": null,
   "metadata": {},
   "outputs": [],
   "source": []
  },
  {
   "cell_type": "code",
   "execution_count": null,
   "metadata": {},
   "outputs": [],
   "source": []
  }
 ],
 "metadata": {
  "kernelspec": {
   "display_name": "Python 3",
   "language": "python",
   "name": "python3"
  }
 },
 "nbformat": 4,
 "nbformat_minor": 4
}
