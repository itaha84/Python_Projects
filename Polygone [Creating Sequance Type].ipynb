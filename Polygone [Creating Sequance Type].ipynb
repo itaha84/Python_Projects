{
 "cells": [
  {
   "cell_type": "markdown",
   "metadata": {},
   "source": [
    "### Polygon Class"
   ]
  },
  {
   "cell_type": "code",
   "execution_count": 24,
   "metadata": {},
   "outputs": [],
   "source": [
    "import math"
   ]
  },
  {
   "cell_type": "code",
   "execution_count": 93,
   "metadata": {},
   "outputs": [],
   "source": [
    "class Polygon:\n",
    "    def __init__(self, n, R):\n",
    "        if n < 3:\n",
    "            raise ValueError(\"Polygon must have at least three sides\")\n",
    "        else:  \n",
    "            self._n = n\n",
    "            self._R = R  \n",
    "          \n",
    "    def __repr__(self):\n",
    "        return f\"Polygon(n={self._n},R={self._R})\"\n",
    "\n",
    "    @property\n",
    "    def count_vertices(self):\n",
    "        return self._n\n",
    "    \n",
    "    @property\n",
    "    def count_edges(self):\n",
    "        return self._n\n",
    "    \n",
    "    @property\n",
    "    def circumradius(self):\n",
    "        return self._R\n",
    "    \n",
    "    @property\n",
    "    def interior_angle(self):\n",
    "        return (self._n - 2)* 180 / self._n\n",
    "    \n",
    "    @property\n",
    "    def side_length(self):\n",
    "        return 2 * self._R * math.sin(math.pi / self._n)\n",
    "    \n",
    "    @property\n",
    "    def apothem(self):\n",
    "        return self._R * math.cos(math.pi / self._n)\n",
    "    \n",
    "    @property\n",
    "    def area(self):\n",
    "        return self._n /2 * self.side_length * self.apothem\n",
    "    \n",
    "    @property\n",
    "    def perimeter(self):\n",
    "        return self._n * self.side_length\n",
    "    \n",
    "    def __eq__(self, other):\n",
    "        if isinstance(other, Polygon):\n",
    "            return (self.count_edges == other.count_edges \n",
    "                    and self.circumradius == other.circumradius)\n",
    "        else:\n",
    "            return NotImplemented\n",
    "        \n",
    "    def __gt__(self, other):\n",
    "        if isinstance(other, Polygon):\n",
    "            return self.count_vertices > other.count_vertices\n",
    "        else:\n",
    "            return NotImplemented"
   ]
  },
  {
   "cell_type": "markdown",
   "metadata": {},
   "source": [
    "### Implement Unit Testing"
   ]
  },
  {
   "cell_type": "code",
   "execution_count": 97,
   "metadata": {},
   "outputs": [],
   "source": [
    "def test_polygon():\n",
    "    rel_tol = 0.001 #as the assertion of area will use float, we will need to use isclose()\n",
    "    abs_tol = 0.001\n",
    "    try:\n",
    "        p = Polygon(2, 10)\n",
    "        assert False , (\"Creating a Polygon with 2 sides: Expection expected but not received\")\n",
    "    except ValueError:\n",
    "        pass\n",
    "    \n",
    "    n = 3\n",
    "    R = 1\n",
    "    p = Polygon(n,R)\n",
    "    assert str(p) == f\"Polygon(n=3,R=1)\", f\"actual: {str(p)}\"\n",
    "    assert p.count_vertices == n, (f\"actual: {p.count_vertices}, \"f\"expected: {n}\")\n",
    "    assert p.count_edges == n\n",
    "    assert p.circumradius == R\n",
    "    assert p.interior_angle == 60\n",
    "    \n",
    "    n = 4\n",
    "    R = 1\n",
    "    p = Polygon(n, R)\n",
    "    assert math.isclose(p.interior_angle, 90)\n",
    "    assert math.isclose(p.area, 2.0, rel_tol = rel_tol,\n",
    "                        abs_tol = abs_tol),(f\"actual: {p.area}, \"f\"expected: {2.0}\")\n",
    "    assert math.isclose(p.side_length, math.sqrt(2),\n",
    "                        rel_tol = rel_tol, abs_tol = abs_tol)\n",
    "    assert math.isclose(p.perimeter, 4 * math.sqrt(2),\n",
    "                       rel_tol = rel_tol, abs_tol = abs_tol)\n",
    "    assert math.isclose(p.apothem, 0.707,\n",
    "                       rel_tol = rel_tol, abs_tol = abs_tol)\n",
    "    \n",
    "    p1 = Polygon(3, 100)\n",
    "    p2 = Polygon(10, 10)\n",
    "    p3 = Polygon(15, 10)\n",
    "    p4 = Polygon(15, 100)\n",
    "    p5 = Polygon(15, 100)\n",
    "    \n",
    "    assert p2 > p1\n",
    "    assert p2 < p3 # lt will work as gt is implemented ~ Python will reverse\n",
    "    assert p3 != p4\n",
    "    assert p1 != p4\n",
    "    assert p4 == p5"
   ]
  },
  {
   "cell_type": "code",
   "execution_count": 100,
   "metadata": {},
   "outputs": [],
   "source": [
    "test_polygon() ## test passes if there is no error"
   ]
  },
  {
   "cell_type": "markdown",
   "metadata": {},
   "source": [
    "### Implementing Sequences of Polygons"
   ]
  },
  {
   "cell_type": "code",
   "execution_count": 125,
   "metadata": {},
   "outputs": [],
   "source": [
    "class Polygons:\n",
    "    def __init__(self, m, R):\n",
    "        if m < 3:\n",
    "            raise ValueError(\"m must be greater than 3!\")\n",
    "        self._m = m\n",
    "        self._R = R\n",
    "        self._polygons = [Polygon(i, R) for i in range(3, m+1)]\n",
    "    \n",
    "    def __len__(self):\n",
    "        return self._m -2\n",
    "          \n",
    "    def __repr__(self):\n",
    "        return f\"Polygons(m={self._m}, R={self._R})\" \n",
    "    \n",
    "    def __getitem__(self, s):\n",
    "        return self._polygons[s] #delegating to the list \n",
    "    \n",
    "    @property\n",
    "    def max_efficiency_polygon(self):\n",
    "        sorted_polygons = sorted(self._polygons, \n",
    "                                 key = lambda p: p.area/p.perimeter, reverse=True )\n",
    "        return sorted_polygons[0]"
   ]
  },
  {
   "cell_type": "code",
   "execution_count": 126,
   "metadata": {},
   "outputs": [],
   "source": [
    "polygons = Polygons(3,  1)"
   ]
  },
  {
   "cell_type": "code",
   "execution_count": 127,
   "metadata": {},
   "outputs": [
    {
     "data": {
      "text/plain": [
       "1"
      ]
     },
     "execution_count": 127,
     "metadata": {},
     "output_type": "execute_result"
    }
   ],
   "source": [
    "len(polygons)"
   ]
  },
  {
   "cell_type": "code",
   "execution_count": 128,
   "metadata": {},
   "outputs": [
    {
     "data": {
      "text/plain": [
       "4"
      ]
     },
     "execution_count": 128,
     "metadata": {},
     "output_type": "execute_result"
    }
   ],
   "source": [
    "polygons = Polygons(6,  1)\n",
    "len(polygons)"
   ]
  },
  {
   "cell_type": "code",
   "execution_count": 134,
   "metadata": {},
   "outputs": [],
   "source": [
    "polygons = Polygons(10, 1)"
   ]
  },
  {
   "cell_type": "code",
   "execution_count": 135,
   "metadata": {},
   "outputs": [
    {
     "name": "stdout",
     "output_type": "stream",
     "text": [
      "Polygon(n=3,R=1)\n",
      "Polygon(n=4,R=1)\n",
      "Polygon(n=5,R=1)\n",
      "Polygon(n=6,R=1)\n",
      "Polygon(n=7,R=1)\n",
      "Polygon(n=8,R=1)\n",
      "Polygon(n=9,R=1)\n",
      "Polygon(n=10,R=1)\n"
     ]
    }
   ],
   "source": [
    "for p in polygons:\n",
    "    print(p)"
   ]
  },
  {
   "cell_type": "code",
   "execution_count": 136,
   "metadata": {},
   "outputs": [
    {
     "name": "stdout",
     "output_type": "stream",
     "text": [
      "Polygon(n=5,R=1)\n",
      "Polygon(n=6,R=1)\n",
      "Polygon(n=7,R=1)\n"
     ]
    }
   ],
   "source": [
    "for p in polygons[2:5]:\n",
    "    print(p)"
   ]
  },
  {
   "cell_type": "code",
   "execution_count": 137,
   "metadata": {},
   "outputs": [
    {
     "name": "stdout",
     "output_type": "stream",
     "text": [
      "Polygon(n=10,R=1)\n",
      "Polygon(n=9,R=1)\n",
      "Polygon(n=8,R=1)\n",
      "Polygon(n=7,R=1)\n",
      "Polygon(n=6,R=1)\n",
      "Polygon(n=5,R=1)\n",
      "Polygon(n=4,R=1)\n",
      "Polygon(n=3,R=1)\n"
     ]
    }
   ],
   "source": [
    "for p in polygons[::-1]:\n",
    "    print(p)"
   ]
  },
  {
   "cell_type": "code",
   "execution_count": 138,
   "metadata": {},
   "outputs": [
    {
     "data": {
      "text/plain": [
       "Polygon(n=10,R=1)"
      ]
     },
     "execution_count": 138,
     "metadata": {},
     "output_type": "execute_result"
    }
   ],
   "source": [
    "polygons.max_efficiency_polygon"
   ]
  },
  {
   "cell_type": "code",
   "execution_count": 139,
   "metadata": {},
   "outputs": [
    {
     "data": {
      "text/plain": [
       "[(Polygon(n=3,R=1), 0.25000000000000006),\n",
       " (Polygon(n=4,R=1), 0.35355339059327384),\n",
       " (Polygon(n=5,R=1), 0.4045084971874737),\n",
       " (Polygon(n=6,R=1), 0.4330127018922193),\n",
       " (Polygon(n=7,R=1), 0.4504844339512096),\n",
       " (Polygon(n=8,R=1), 0.4619397662556434),\n",
       " (Polygon(n=9,R=1), 0.46984631039295427),\n",
       " (Polygon(n=10,R=1), 0.47552825814757677)]"
      ]
     },
     "execution_count": 139,
     "metadata": {},
     "output_type": "execute_result"
    }
   ],
   "source": [
    "[(p, p.area/p.perimeter) for p in polygons]"
   ]
  },
  {
   "cell_type": "code",
   "execution_count": null,
   "metadata": {},
   "outputs": [],
   "source": []
  },
  {
   "cell_type": "code",
   "execution_count": null,
   "metadata": {},
   "outputs": [],
   "source": []
  },
  {
   "cell_type": "code",
   "execution_count": null,
   "metadata": {},
   "outputs": [],
   "source": []
  },
  {
   "cell_type": "code",
   "execution_count": null,
   "metadata": {},
   "outputs": [],
   "source": []
  },
  {
   "cell_type": "code",
   "execution_count": null,
   "metadata": {},
   "outputs": [],
   "source": []
  },
  {
   "cell_type": "code",
   "execution_count": null,
   "metadata": {},
   "outputs": [],
   "source": []
  },
  {
   "cell_type": "code",
   "execution_count": null,
   "metadata": {},
   "outputs": [],
   "source": []
  }
 ],
 "metadata": {
  "kernelspec": {
   "display_name": "Python 3",
   "language": "python",
   "name": "python3"
  },
  "language_info": {
   "codemirror_mode": {
    "name": "ipython",
    "version": 3
   },
   "file_extension": ".py",
   "mimetype": "text/x-python",
   "name": "python",
   "nbconvert_exporter": "python",
   "pygments_lexer": "ipython3",
   "version": "3.7.6"
  }
 },
 "nbformat": 4,
 "nbformat_minor": 4
}
